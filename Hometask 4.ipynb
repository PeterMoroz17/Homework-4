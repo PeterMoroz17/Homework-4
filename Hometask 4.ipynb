{
 "cells": [
  {
   "cell_type": "code",
   "execution_count": 1,
   "id": "24025c1e",
   "metadata": {},
   "outputs": [],
   "source": [
    "import requests\n",
    "import regex as re"
   ]
  },
  {
   "cell_type": "code",
   "execution_count": 2,
   "id": "196413c9",
   "metadata": {},
   "outputs": [],
   "source": [
    "# Отримаємо дату\n",
    "responce = requests.get('https://www.lejobadequat.com/emplois')"
   ]
  },
  {
   "cell_type": "markdown",
   "id": "2c437b1f",
   "metadata": {},
   "source": [
    "# Основна задача"
   ]
  },
  {
   "cell_type": "code",
   "execution_count": 3,
   "id": "57100623",
   "metadata": {},
   "outputs": [
    {
     "name": "stdout",
     "output_type": "stream",
     "text": [
      "<h3 class=\"jobCard_title\">Responsable technique  H/F</h3>\n"
     ]
    }
   ],
   "source": [
    "raw = re.findall(\"<h3 class=\\\"jobCard_title\\\">[\\w\\/ ]{1,}<\\/h3>\", responce.text)\n",
    "print(raw[0]) # Програма шукає ось такі стрічки з класом \"jobCard_title\""
   ]
  },
  {
   "cell_type": "code",
   "execution_count": 4,
   "id": "eb77c1ef",
   "metadata": {},
   "outputs": [
    {
     "name": "stdout",
     "output_type": "stream",
     "text": [
      "Responsable technique  H/F\n",
      "Ferrailleur  H/F\n",
      "Soudeur  H/F\n",
      "Cuisinier  H/F\n",
      "Chauffeur spl  H/F\n",
      "Chef equipe production  H/F\n",
      "Comptable  H/F\n",
      "Ouvrier manutentionnaire evènementiel\n",
      "Exploitant transport multimodale  H/F\n",
      "Centraliste béton  H/F\n",
      "Peintre en bâtiment  H/F\n",
      "Pharmacien en pui  H/F\n"
     ]
    }
   ],
   "source": [
    "result = list([i[26:-5] for i in raw]) # Обрізає зайве\n",
    "for i in result : print(i)"
   ]
  },
  {
   "cell_type": "markdown",
   "id": "175b8fbb",
   "metadata": {},
   "source": [
    "# Доповнення\n",
    "Тут так само але з відповідними посиланнями з сайту"
   ]
  },
  {
   "cell_type": "code",
   "execution_count": 5,
   "id": "0797ce7a",
   "metadata": {},
   "outputs": [],
   "source": [
    "strings = re.findall(\"<a href=\\\"[\\w:\\/.-]{1,}\\\" title=\\\"[\\w '\\/]{1,}\\\" class=\\\"jobCard_link\\\"\", responce.text)"
   ]
  },
  {
   "cell_type": "code",
   "execution_count": 6,
   "id": "72a05d29",
   "metadata": {},
   "outputs": [],
   "source": [
    "links_raw = [re.findall(\"<a href=\\\"[\\w:\\/.-]{1,}\", i) for i in strings]\n",
    "titles_raw = [re.findall(\"title=\\\"[\\w '\\/]{1,}\", i) for i in strings]"
   ]
  },
  {
   "cell_type": "code",
   "execution_count": 7,
   "id": "9da4b35b",
   "metadata": {},
   "outputs": [],
   "source": [
    "titles = [i[0][34:] for i in titles_raw]\n",
    "links = [i[0][9:] for i in links_raw]"
   ]
  },
  {
   "cell_type": "code",
   "execution_count": 8,
   "id": "3e754b11",
   "metadata": {},
   "outputs": [
    {
     "name": "stdout",
     "output_type": "stream",
     "text": [
      "Responsable technique  H/F :\n",
      "https://www.lejobadequat.com/emplois/246439-responsable-technique-f-h-fr\n",
      "\n",
      "Ferrailleur  H/F :\n",
      "https://www.lejobadequat.com/emplois/246438-ferrailleur-h-f-fr\n",
      "\n",
      "Soudeur  H/F :\n",
      "https://www.lejobadequat.com/emplois/246437-soudeur-f-h-fr\n",
      "\n",
      "Cuisinier  H/F :\n",
      "https://www.lejobadequat.com/emplois/246436-cuisinier-f-h-fr\n",
      "\n",
      "Chauffeur spl  H/F :\n",
      "https://www.lejobadequat.com/emplois/246435-chauffeur-spl-f-h-fr\n",
      "\n",
      "Chef equipe production  H/F :\n",
      "https://www.lejobadequat.com/emplois/246434-chef-equipe-production-f-h-fr\n",
      "\n",
      "Comptable  H/F :\n",
      "https://www.lejobadequat.com/emplois/246433-comptable-f-h-fr\n",
      "\n",
      "Ouvrier manutentionnaire evènementiel :\n",
      "https://www.lejobadequat.com/emplois/246430-ouvrier-manutentionnaire-evenementiel-fr\n",
      "\n",
      "Exploitant transport multimodale  H/F :\n",
      "https://www.lejobadequat.com/emplois/246429-exploitant-transport-multimodale-f-h-fr\n",
      "\n",
      "Centraliste béton  H/F :\n",
      "https://www.lejobadequat.com/emplois/246428-centraliste-beton-f-h-fr\n",
      "\n",
      "Peintre en bâtiment  H/F :\n",
      "https://www.lejobadequat.com/emplois/246427-peintre-en-batiment-f-h-fr\n",
      "\n",
      "Pharmacien en pui  H/F :\n",
      "https://www.lejobadequat.com/emplois/246426-pharmacien-en-pui-f-h-fr\n",
      "\n"
     ]
    }
   ],
   "source": [
    "for i in range(0, len(strings)) :\n",
    "    print(titles[i], ':')\n",
    "    print(links[i])\n",
    "    print()"
   ]
  },
  {
   "cell_type": "code",
   "execution_count": null,
   "id": "760c5147",
   "metadata": {},
   "outputs": [],
   "source": []
  }
 ],
 "metadata": {
  "kernelspec": {
   "display_name": "Python 3 (ipykernel)",
   "language": "python",
   "name": "python3"
  },
  "language_info": {
   "codemirror_mode": {
    "name": "ipython",
    "version": 3
   },
   "file_extension": ".py",
   "mimetype": "text/x-python",
   "name": "python",
   "nbconvert_exporter": "python",
   "pygments_lexer": "ipython3",
   "version": "3.9.16"
  }
 },
 "nbformat": 4,
 "nbformat_minor": 5
}
